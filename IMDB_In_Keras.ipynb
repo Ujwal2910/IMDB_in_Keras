{
 "cells": [
  {
   "cell_type": "markdown",
   "metadata": {},
   "source": [
    "# Analyzing IMDB Data in Keras"
   ]
  },
  {
   "cell_type": "code",
   "execution_count": 2,
   "metadata": {},
   "outputs": [
    {
     "name": "stderr",
     "output_type": "stream",
     "text": [
      "Using TensorFlow backend.\n"
     ]
    }
   ],
   "source": [
    "# Imports\n",
    "import numpy as np\n",
    "import keras\n",
    "from keras.datasets import imdb\n",
    "from keras.models import Sequential\n",
    "from keras.layers import Dense, Dropout, Activation\n",
    "from keras.preprocessing.text import Tokenizer\n",
    "import matplotlib.pyplot as plt\n",
    "%matplotlib inline\n",
    "\n",
    "np.random.seed(42)"
   ]
  },
  {
   "cell_type": "markdown",
   "metadata": {},
   "source": [
    "## 1. Loading the data\n",
    "This dataset comes preloaded with Keras, so one simple command will get us training and testing data. There is a parameter for how many words we want to look at. We've set it at 1000, but feel free to experiment."
   ]
  },
  {
   "cell_type": "code",
   "execution_count": 3,
   "metadata": {},
   "outputs": [
    {
     "name": "stdout",
     "output_type": "stream",
     "text": [
      "Downloading data from https://s3.amazonaws.com/text-datasets/imdb.npz\n",
      "17465344/17464789 [==============================] - 15s 1us/step\n",
      "(25000,)\n",
      "(25000,)\n"
     ]
    }
   ],
   "source": [
    "# Loading the data (it's preloaded in Keras)\n",
    "(x_train, y_train), (x_test, y_test) = imdb.load_data(num_words=1000)\n",
    "\n",
    "print(x_train.shape)\n",
    "print(x_test.shape)"
   ]
  },
  {
   "cell_type": "markdown",
   "metadata": {},
   "source": [
    "## 2. Examining the data\n",
    "Notice that the data has been already pre-processed, where all the words have numbers, and the reviews come in as a vector with the words that the review contains. For example, if the word 'the' is the first one in our dictionary, and a review contains the word 'the', then there is a 1 in the corresponding vector.\n",
    "\n",
    "The output comes as a vector of 1's and 0's, where 1 is a positive sentiment for the review, and 0 is negative."
   ]
  },
  {
   "cell_type": "code",
   "execution_count": 4,
   "metadata": {},
   "outputs": [
    {
     "name": "stdout",
     "output_type": "stream",
     "text": [
      "[1, 14, 22, 16, 43, 530, 973, 2, 2, 65, 458, 2, 66, 2, 4, 173, 36, 256, 5, 25, 100, 43, 838, 112, 50, 670, 2, 9, 35, 480, 284, 5, 150, 4, 172, 112, 167, 2, 336, 385, 39, 4, 172, 2, 2, 17, 546, 38, 13, 447, 4, 192, 50, 16, 6, 147, 2, 19, 14, 22, 4, 2, 2, 469, 4, 22, 71, 87, 12, 16, 43, 530, 38, 76, 15, 13, 2, 4, 22, 17, 515, 17, 12, 16, 626, 18, 2, 5, 62, 386, 12, 8, 316, 8, 106, 5, 4, 2, 2, 16, 480, 66, 2, 33, 4, 130, 12, 16, 38, 619, 5, 25, 124, 51, 36, 135, 48, 25, 2, 33, 6, 22, 12, 215, 28, 77, 52, 5, 14, 407, 16, 82, 2, 8, 4, 107, 117, 2, 15, 256, 4, 2, 7, 2, 5, 723, 36, 71, 43, 530, 476, 26, 400, 317, 46, 7, 4, 2, 2, 13, 104, 88, 4, 381, 15, 297, 98, 32, 2, 56, 26, 141, 6, 194, 2, 18, 4, 226, 22, 21, 134, 476, 26, 480, 5, 144, 30, 2, 18, 51, 36, 28, 224, 92, 25, 104, 4, 226, 65, 16, 38, 2, 88, 12, 16, 283, 5, 16, 2, 113, 103, 32, 15, 16, 2, 19, 178, 32]\n",
      "1\n"
     ]
    }
   ],
   "source": [
    "print(x_train[0])\n",
    "print(y_train[0])"
   ]
  },
  {
   "cell_type": "markdown",
   "metadata": {},
   "source": [
    "## 3. One-hot encoding the output\n",
    "Here, we'll turn the input vectors into (0,1)-vectors. For example, if the pre-processed vector contains the number 14, then in the processed vector, the 14th entry will be 1."
   ]
  },
  {
   "cell_type": "code",
   "execution_count": 5,
   "metadata": {},
   "outputs": [
    {
     "name": "stdout",
     "output_type": "stream",
     "text": [
      "[0. 1. 1. 0. 1. 1. 1. 1. 1. 1. 0. 0. 1. 1. 1. 1. 1. 1. 1. 1. 0. 1. 1. 0.\n",
      " 0. 1. 1. 0. 1. 0. 1. 0. 1. 1. 0. 1. 1. 0. 1. 1. 0. 0. 0. 1. 0. 0. 1. 0.\n",
      " 1. 0. 1. 1. 1. 0. 0. 0. 1. 0. 0. 0. 0. 0. 1. 0. 0. 1. 1. 0. 0. 0. 0. 1.\n",
      " 0. 0. 0. 0. 1. 1. 0. 0. 0. 0. 1. 0. 0. 0. 0. 1. 1. 0. 0. 0. 1. 0. 0. 0.\n",
      " 0. 0. 1. 0. 1. 0. 0. 1. 1. 0. 1. 1. 0. 0. 0. 0. 1. 1. 0. 0. 0. 1. 0. 0.\n",
      " 0. 0. 0. 0. 1. 0. 0. 0. 0. 0. 1. 0. 0. 0. 1. 1. 0. 0. 0. 0. 0. 1. 0. 0.\n",
      " 1. 0. 0. 1. 0. 0. 1. 0. 0. 0. 0. 0. 0. 0. 0. 0. 0. 0. 0. 0. 0. 0. 0. 1.\n",
      " 0. 0. 0. 0. 1. 1. 0. 0. 0. 0. 1. 0. 0. 0. 0. 0. 0. 0. 0. 0. 0. 0. 0. 0.\n",
      " 1. 0. 1. 0. 0. 0. 0. 0. 0. 0. 0. 0. 0. 0. 0. 0. 0. 0. 0. 0. 0. 0. 0. 1.\n",
      " 0. 0. 0. 0. 0. 0. 0. 0. 1. 0. 1. 0. 0. 0. 0. 0. 0. 0. 0. 0. 0. 0. 0. 0.\n",
      " 0. 0. 0. 0. 0. 0. 0. 0. 0. 0. 0. 0. 0. 0. 0. 0. 1. 0. 0. 0. 0. 0. 0. 0.\n",
      " 0. 0. 0. 0. 0. 0. 0. 0. 0. 0. 0. 0. 0. 0. 0. 0. 0. 0. 0. 1. 1. 0. 0. 0.\n",
      " 0. 0. 0. 0. 0. 0. 0. 0. 0. 1. 0. 0. 0. 0. 0. 0. 0. 0. 0. 0. 0. 0. 0. 0.\n",
      " 0. 0. 0. 0. 1. 1. 0. 0. 0. 0. 0. 0. 0. 0. 0. 0. 0. 0. 0. 0. 0. 0. 0. 0.\n",
      " 1. 0. 0. 0. 0. 0. 0. 0. 0. 0. 0. 0. 0. 0. 0. 0. 0. 0. 0. 0. 0. 0. 0. 0.\n",
      " 0. 0. 0. 0. 0. 0. 0. 0. 0. 0. 0. 0. 0. 0. 0. 0. 0. 0. 0. 0. 0. 1. 0. 0.\n",
      " 0. 1. 1. 0. 0. 0. 0. 0. 0. 0. 0. 0. 0. 0. 0. 0. 1. 0. 0. 0. 0. 0. 0. 1.\n",
      " 0. 0. 0. 0. 0. 0. 0. 0. 0. 0. 0. 0. 0. 0. 0. 0. 0. 0. 0. 0. 0. 0. 0. 0.\n",
      " 0. 0. 0. 0. 0. 0. 0. 0. 0. 0. 0. 0. 0. 0. 0. 1. 0. 0. 0. 0. 0. 0. 0. 0.\n",
      " 0. 0. 1. 0. 0. 0. 0. 0. 0. 0. 0. 0. 0. 1. 0. 0. 0. 0. 0. 0. 1. 0. 0. 0.\n",
      " 1. 0. 0. 0. 0. 0. 0. 0. 0. 0. 0. 0. 0. 0. 0. 0. 0. 0. 0. 0. 0. 0. 0. 0.\n",
      " 0. 0. 0. 0. 0. 0. 0. 0. 0. 0. 0. 1. 0. 0. 0. 0. 0. 0. 0. 0. 0. 0. 0. 0.\n",
      " 0. 0. 1. 0. 0. 0. 0. 0. 0. 0. 0. 0. 0. 0. 0. 0. 0. 0. 1. 0. 0. 0. 0. 0.\n",
      " 0. 0. 0. 0. 0. 0. 0. 0. 0. 0. 0. 0. 0. 0. 0. 0. 0. 0. 0. 0. 0. 0. 0. 0.\n",
      " 0. 0. 0. 0. 0. 0. 0. 0. 0. 0. 0. 0. 0. 0. 0. 0. 0. 0. 0. 0. 0. 0. 0. 0.\n",
      " 0. 0. 0. 0. 0. 0. 0. 0. 0. 0. 0. 0. 0. 0. 0. 0. 0. 0. 0. 1. 0. 0. 0. 0.\n",
      " 0. 0. 1. 0. 0. 0. 0. 0. 0. 0. 0. 0. 0. 0. 0. 0. 0. 0. 0. 0. 0. 0. 0. 0.\n",
      " 0. 0. 0. 0. 0. 0. 0. 0. 0. 0. 0. 0. 0. 0. 0. 0. 0. 0. 0. 0. 0. 0. 1. 0.\n",
      " 0. 0. 0. 0. 0. 0. 0. 0. 0. 0. 0. 0. 0. 0. 0. 0. 0. 0. 0. 0. 0. 0. 0. 0.\n",
      " 0. 0. 0. 0. 0. 0. 0. 0. 0. 0. 0. 0. 0. 0. 0. 0. 0. 0. 0. 0. 0. 0. 0. 0.\n",
      " 0. 0. 0. 1. 0. 0. 0. 0. 0. 0. 0. 0. 0. 0. 0. 0. 0. 0. 0. 0. 0. 0. 0. 0.\n",
      " 0. 0. 0. 0. 0. 0. 0. 0. 0. 0. 0. 0. 0. 0. 0. 0. 0. 0. 0. 0. 0. 0. 0. 0.\n",
      " 0. 0. 0. 0. 0. 0. 0. 0. 0. 0. 0. 0. 0. 0. 0. 0. 0. 0. 0. 0. 0. 0. 0. 0.\n",
      " 0. 0. 0. 0. 0. 0. 0. 0. 0. 0. 0. 0. 0. 0. 0. 0. 0. 0. 0. 0. 0. 0. 0. 0.\n",
      " 0. 0. 0. 0. 0. 0. 0. 0. 0. 0. 0. 0. 0. 0. 0. 0. 0. 0. 0. 0. 0. 0. 1. 0.\n",
      " 0. 0. 0. 0. 0. 0. 0. 0. 0. 0. 0. 0. 0. 0. 0. 0. 0. 0. 0. 0. 0. 0. 0. 0.\n",
      " 0. 0. 0. 0. 0. 0. 0. 0. 0. 0. 0. 0. 0. 0. 0. 0. 0. 0. 0. 0. 0. 0. 0. 0.\n",
      " 0. 0. 0. 0. 0. 0. 0. 0. 0. 0. 0. 0. 0. 0. 0. 0. 0. 0. 0. 0. 0. 0. 0. 0.\n",
      " 0. 0. 0. 0. 0. 0. 0. 0. 0. 0. 0. 0. 0. 0. 0. 0. 0. 0. 0. 0. 0. 0. 0. 0.\n",
      " 0. 0. 0. 0. 0. 0. 0. 0. 0. 0. 0. 0. 0. 0. 0. 0. 0. 0. 0. 0. 0. 0. 0. 0.\n",
      " 0. 0. 0. 0. 0. 0. 0. 0. 0. 0. 0. 0. 0. 1. 0. 0. 0. 0. 0. 0. 0. 0. 0. 0.\n",
      " 0. 0. 0. 0. 0. 0. 0. 0. 0. 0. 0. 0. 0. 0. 0. 0.]\n"
     ]
    }
   ],
   "source": [
    "# One-hot encoding the output into vector mode, each of length 1000\n",
    "tokenizer = Tokenizer(num_words=1000)\n",
    "x_train = tokenizer.sequences_to_matrix(x_train, mode='binary')\n",
    "x_test = tokenizer.sequences_to_matrix(x_test, mode='binary')\n",
    "print(x_train[0])"
   ]
  },
  {
   "cell_type": "markdown",
   "metadata": {},
   "source": [
    "And we'll also one-hot encode the output."
   ]
  },
  {
   "cell_type": "code",
   "execution_count": 6,
   "metadata": {},
   "outputs": [
    {
     "name": "stdout",
     "output_type": "stream",
     "text": [
      "(25000, 2)\n",
      "(25000, 2)\n"
     ]
    }
   ],
   "source": [
    "# One-hot encoding the output\n",
    "num_classes = 2\n",
    "y_train = keras.utils.to_categorical(y_train, num_classes)\n",
    "y_test = keras.utils.to_categorical(y_test, num_classes)\n",
    "print(y_train.shape)\n",
    "print(y_test.shape)"
   ]
  },
  {
   "cell_type": "markdown",
   "metadata": {},
   "source": [
    "## 4. Building the  model architecture\n",
    "Build a model here using sequential. Feel free to experiment with different layers and sizes! Also, experiment adding dropout to reduce overfitting."
   ]
  },
  {
   "cell_type": "code",
   "execution_count": 7,
   "metadata": {},
   "outputs": [
    {
     "name": "stdout",
     "output_type": "stream",
     "text": [
      "_________________________________________________________________\n",
      "Layer (type)                 Output Shape              Param #   \n",
      "=================================================================\n",
      "dense_1 (Dense)              (None, 512)               512512    \n",
      "_________________________________________________________________\n",
      "dropout_1 (Dropout)          (None, 512)               0         \n",
      "_________________________________________________________________\n",
      "dense_2 (Dense)              (None, 2)                 1026      \n",
      "=================================================================\n",
      "Total params: 513,538\n",
      "Trainable params: 513,538\n",
      "Non-trainable params: 0\n",
      "_________________________________________________________________\n"
     ]
    }
   ],
   "source": [
    "# TODO: Build the model architecture\n",
    "\n",
    "# TODO: Compile the model using a loss function and an optimizer.\n",
    "# Building the model architecture with one layer of length 100\n",
    "model = Sequential()\n",
    "model.add(Dense(512, activation='relu', input_dim=1000))\n",
    "model.add(Dropout(0.5))\n",
    "model.add(Dense(num_classes, activation='softmax'))\n",
    "\n",
    "# Compiling the model using categorical_crossentropy loss, and rmsprop optimizer.\n",
    "model.compile(loss='categorical_crossentropy',\n",
    "              optimizer='rmsprop',\n",
    "              metrics=['accuracy'])\n",
    "\n",
    "model.summary()\n"
   ]
  },
  {
   "cell_type": "markdown",
   "metadata": {},
   "source": [
    "## 5. Training the model\n",
    "Run the model here. Experiment with different batch_size, and number of epochs!"
   ]
  },
  {
   "cell_type": "code",
   "execution_count": 8,
   "metadata": {},
   "outputs": [
    {
     "name": "stdout",
     "output_type": "stream",
     "text": [
      "Train on 25000 samples, validate on 25000 samples\n",
      "Epoch 1/50\n",
      " - 9s - loss: 0.3994 - acc: 0.8218 - val_loss: 0.3262 - val_acc: 0.8607\n",
      "Epoch 2/50\n",
      " - 8s - loss: 0.3188 - acc: 0.8676 - val_loss: 0.3333 - val_acc: 0.8598\n",
      "Epoch 3/50\n",
      " - 8s - loss: 0.2932 - acc: 0.8842 - val_loss: 0.3507 - val_acc: 0.8636\n",
      "Epoch 4/50\n",
      " - 8s - loss: 0.2757 - acc: 0.8999 - val_loss: 0.3767 - val_acc: 0.8575\n",
      "Epoch 5/50\n",
      " - 9s - loss: 0.2596 - acc: 0.9086 - val_loss: 0.4093 - val_acc: 0.8588\n",
      "Epoch 6/50\n",
      " - 8s - loss: 0.2418 - acc: 0.9212 - val_loss: 0.4144 - val_acc: 0.8606\n",
      "Epoch 7/50\n",
      " - 8s - loss: 0.2181 - acc: 0.9332 - val_loss: 0.4655 - val_acc: 0.8568\n",
      "Epoch 8/50\n",
      " - 8s - loss: 0.2019 - acc: 0.9419 - val_loss: 0.4830 - val_acc: 0.8574\n",
      "Epoch 9/50\n",
      " - 8s - loss: 0.1868 - acc: 0.9491 - val_loss: 0.5120 - val_acc: 0.8547\n",
      "Epoch 10/50\n",
      " - 8s - loss: 0.1661 - acc: 0.9557 - val_loss: 0.5545 - val_acc: 0.8552\n",
      "Epoch 11/50\n",
      " - 8s - loss: 0.1500 - acc: 0.9620 - val_loss: 0.5839 - val_acc: 0.8525\n",
      "Epoch 12/50\n",
      " - 8s - loss: 0.1380 - acc: 0.9664 - val_loss: 0.6068 - val_acc: 0.8522\n",
      "Epoch 13/50\n",
      " - 8s - loss: 0.1292 - acc: 0.9706 - val_loss: 0.6337 - val_acc: 0.8548\n",
      "Epoch 14/50\n",
      " - 8s - loss: 0.1179 - acc: 0.9727 - val_loss: 0.6441 - val_acc: 0.8513\n",
      "Epoch 15/50\n",
      " - 8s - loss: 0.1093 - acc: 0.9749 - val_loss: 0.7002 - val_acc: 0.8526\n",
      "Epoch 16/50\n",
      " - 8s - loss: 0.1098 - acc: 0.9778 - val_loss: 0.7108 - val_acc: 0.8511\n",
      "Epoch 17/50\n",
      " - 8s - loss: 0.0960 - acc: 0.9794 - val_loss: 0.7317 - val_acc: 0.8504\n",
      "Epoch 18/50\n",
      " - 8s - loss: 0.0941 - acc: 0.9796 - val_loss: 0.7797 - val_acc: 0.8496\n",
      "Epoch 19/50\n",
      " - 8s - loss: 0.0866 - acc: 0.9823 - val_loss: 0.7784 - val_acc: 0.8542\n",
      "Epoch 20/50\n",
      " - 8s - loss: 0.0847 - acc: 0.9842 - val_loss: 0.8011 - val_acc: 0.8484\n",
      "Epoch 21/50\n",
      " - 8s - loss: 0.0794 - acc: 0.9849 - val_loss: 0.8107 - val_acc: 0.8503\n",
      "Epoch 22/50\n",
      " - 8s - loss: 0.0848 - acc: 0.9855 - val_loss: 0.7931 - val_acc: 0.8498\n",
      "Epoch 23/50\n",
      " - 8s - loss: 0.0791 - acc: 0.9854 - val_loss: 0.8858 - val_acc: 0.8446\n",
      "Epoch 24/50\n",
      " - 10s - loss: 0.0788 - acc: 0.9859 - val_loss: 0.8412 - val_acc: 0.8498\n",
      "Epoch 25/50\n",
      " - 13s - loss: 0.0786 - acc: 0.9866 - val_loss: 0.8780 - val_acc: 0.8527\n",
      "Epoch 26/50\n",
      " - 12s - loss: 0.0794 - acc: 0.9872 - val_loss: 0.8823 - val_acc: 0.8479\n",
      "Epoch 27/50\n",
      " - 10s - loss: 0.0753 - acc: 0.9881 - val_loss: 0.8732 - val_acc: 0.8500\n",
      "Epoch 28/50\n",
      " - 13s - loss: 0.0736 - acc: 0.9880 - val_loss: 0.9199 - val_acc: 0.8492\n",
      "Epoch 29/50\n",
      " - 12s - loss: 0.0709 - acc: 0.9884 - val_loss: 0.9471 - val_acc: 0.8441\n",
      "Epoch 30/50\n",
      " - 12s - loss: 0.0663 - acc: 0.9897 - val_loss: 0.9082 - val_acc: 0.8493\n",
      "Epoch 31/50\n",
      " - 10s - loss: 0.0714 - acc: 0.9889 - val_loss: 0.9062 - val_acc: 0.8504\n",
      "Epoch 32/50\n",
      " - 9s - loss: 0.0688 - acc: 0.9894 - val_loss: 0.9147 - val_acc: 0.8487\n",
      "Epoch 33/50\n",
      " - 9s - loss: 0.0629 - acc: 0.9907 - val_loss: 0.9299 - val_acc: 0.8489\n",
      "Epoch 34/50\n",
      " - 10s - loss: 0.0657 - acc: 0.9900 - val_loss: 0.9272 - val_acc: 0.8492\n",
      "Epoch 35/50\n",
      " - 8s - loss: 0.0612 - acc: 0.9912 - val_loss: 0.9767 - val_acc: 0.8490\n",
      "Epoch 36/50\n",
      " - 8s - loss: 0.0631 - acc: 0.9903 - val_loss: 0.9554 - val_acc: 0.8484\n",
      "Epoch 37/50\n",
      " - 9s - loss: 0.0606 - acc: 0.9915 - val_loss: 0.9674 - val_acc: 0.8473\n",
      "Epoch 38/50\n",
      " - 9s - loss: 0.0629 - acc: 0.9914 - val_loss: 0.9573 - val_acc: 0.8463\n",
      "Epoch 39/50\n",
      " - 9s - loss: 0.0584 - acc: 0.9909 - val_loss: 0.9791 - val_acc: 0.8452\n",
      "Epoch 40/50\n",
      " - 10s - loss: 0.0540 - acc: 0.9922 - val_loss: 0.9648 - val_acc: 0.8460\n",
      "Epoch 41/50\n",
      " - 11s - loss: 0.0564 - acc: 0.9914 - val_loss: 0.9843 - val_acc: 0.8461\n",
      "Epoch 42/50\n",
      " - 12s - loss: 0.0656 - acc: 0.9912 - val_loss: 0.9788 - val_acc: 0.8456\n",
      "Epoch 43/50\n",
      " - 10s - loss: 0.0609 - acc: 0.9916 - val_loss: 0.9902 - val_acc: 0.8469\n",
      "Epoch 44/50\n",
      " - 10s - loss: 0.0513 - acc: 0.9926 - val_loss: 1.0130 - val_acc: 0.8470\n",
      "Epoch 45/50\n",
      " - 9s - loss: 0.0555 - acc: 0.9922 - val_loss: 0.9873 - val_acc: 0.8437\n",
      "Epoch 46/50\n",
      " - 9s - loss: 0.0542 - acc: 0.9920 - val_loss: 0.9971 - val_acc: 0.8422\n",
      "Epoch 47/50\n",
      " - 10s - loss: 0.0541 - acc: 0.9923 - val_loss: 1.0348 - val_acc: 0.8451\n",
      "Epoch 48/50\n",
      " - 10s - loss: 0.0567 - acc: 0.9927 - val_loss: 1.0242 - val_acc: 0.8445\n",
      "Epoch 49/50\n",
      " - 10s - loss: 0.0485 - acc: 0.9932 - val_loss: 1.0396 - val_acc: 0.8445\n",
      "Epoch 50/50\n",
      " - 10s - loss: 0.0452 - acc: 0.9940 - val_loss: 1.0751 - val_acc: 0.8433\n"
     ]
    }
   ],
   "source": [
    "# TODO: Run the model. Feel free to experiment with different batch sizes and number of epochs.\n",
    "hist = model.fit(x_train, y_train,\n",
    "          batch_size=50,\n",
    "          epochs=50,\n",
    "          validation_data=(x_test, y_test), \n",
    "          verbose=2)"
   ]
  },
  {
   "cell_type": "markdown",
   "metadata": {},
   "source": [
    "## 6. Evaluating the model\n",
    "This will give you the accuracy of the model, as evaluated on the testing set. Can you get something over 85%?"
   ]
  },
  {
   "cell_type": "code",
   "execution_count": 9,
   "metadata": {},
   "outputs": [
    {
     "name": "stdout",
     "output_type": "stream",
     "text": [
      "Accuracy:  0.84328\n"
     ]
    }
   ],
   "source": [
    "score = model.evaluate(x_test, y_test, verbose=0)\n",
    "print(\"Accuracy: \", score[1])"
   ]
  },
  {
   "cell_type": "code",
   "execution_count": null,
   "metadata": {},
   "outputs": [],
   "source": []
  }
 ],
 "metadata": {
  "kernelspec": {
   "display_name": "Python [default]",
   "language": "python",
   "name": "python3"
  },
  "language_info": {
   "codemirror_mode": {
    "name": "ipython",
    "version": 3
   },
   "file_extension": ".py",
   "mimetype": "text/x-python",
   "name": "python",
   "nbconvert_exporter": "python",
   "pygments_lexer": "ipython3",
   "version": "3.6.3"
  }
 },
 "nbformat": 4,
 "nbformat_minor": 2
}
